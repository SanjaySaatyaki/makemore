{
 "cells": [
  {
   "cell_type": "code",
   "execution_count": 1,
   "id": "30520c12",
   "metadata": {},
   "outputs": [
    {
     "data": {
      "text/plain": [
       "32033"
      ]
     },
     "execution_count": 1,
     "metadata": {},
     "output_type": "execute_result"
    }
   ],
   "source": [
    "words = open(\"names.txt\",\"r\").read().splitlines()\n",
    "len(words)"
   ]
  },
  {
   "cell_type": "code",
   "execution_count": 3,
   "id": "bc0dbe67",
   "metadata": {},
   "outputs": [],
   "source": [
    "chars = sorted(list(set(\"\".join(words))))\n",
    "stoi = {s:i+1 for i,s in enumerate(chars)}\n",
    "stoi[\".\"] = 0\n",
    "itos = {i:s for s,i in stoi.items()}"
   ]
  },
  {
   "cell_type": "code",
   "execution_count": 4,
   "id": "df91e125",
   "metadata": {},
   "outputs": [],
   "source": [
    "import torch"
   ]
  },
  {
   "cell_type": "code",
   "execution_count": 5,
   "id": "6c22401f",
   "metadata": {},
   "outputs": [],
   "source": [
    "block_size = 3\n",
    "\n",
    "def build_datasets(words):\n",
    "    X,Y =[],[]\n",
    "    for w in words:\n",
    "        context = [0] * block_size\n",
    "        for ch in w + \".\":\n",
    "            ix = stoi[ch]\n",
    "            X.append(context)\n",
    "            Y.append(ix)\n",
    "            context = context[1:] + [ix]\n",
    "    X = torch.tensor(X)\n",
    "    Y = torch.tensor(Y)\n",
    "    return X, Y"
   ]
  },
  {
   "cell_type": "code",
   "execution_count": 7,
   "id": "d683598f",
   "metadata": {},
   "outputs": [],
   "source": [
    "import random\n",
    "random.seed(42)\n",
    "random.shuffle(words)\n",
    "n1 = int(0.8*len(words))\n",
    "n2 = int(0.9*len(words))\n",
    "\n",
    "Xtr, Ytr = build_datasets(words[:n1])\n",
    "Xdev, Ydev = build_datasets(words[n1:n2])\n",
    "Xte, Yte = build_datasets(words[n2:])"
   ]
  },
  {
   "cell_type": "code",
   "execution_count": 8,
   "id": "78ae49be",
   "metadata": {},
   "outputs": [
    {
     "data": {
      "text/plain": [
       "(torch.Size([182580, 3]),\n",
       " torch.Size([182580]),\n",
       " torch.Size([22767, 3]),\n",
       " torch.Size([22767]),\n",
       " torch.Size([22799, 3]),\n",
       " torch.Size([22799]))"
      ]
     },
     "execution_count": 8,
     "metadata": {},
     "output_type": "execute_result"
    }
   ],
   "source": [
    "Xtr.shape, Ytr.shape, Xdev.shape, Ydev.shape, Xte.shape, Yte.shape"
   ]
  },
  {
   "cell_type": "code",
   "execution_count": 9,
   "id": "7305a55b",
   "metadata": {},
   "outputs": [],
   "source": [
    "vocab_size = len(itos)"
   ]
  },
  {
   "cell_type": "code",
   "execution_count": 10,
   "id": "324c8a61",
   "metadata": {},
   "outputs": [],
   "source": [
    "n_embd = 10\n",
    "n_hidden = 200\n",
    "\n",
    "g = torch.Generator().manual_seed(21474783647)\n",
    "C = torch.rand((vocab_size,n_embd),generator=g)\n",
    "W1 = torch.rand((n_embd*block_size,n_hidden),generator=g)\n",
    "b1 = torch.rand(n_hidden,generator=g)\n",
    "W2 = torch.rand((n_hidden, vocab_size),generator=g)\n",
    "b2= torch.rand(vocab_size,generator=g)\n",
    "parameters = [C,W1,b1,W2,b2]\n",
    "for p in parameters:\n",
    "    p.requires_grad=True"
   ]
  },
  {
   "cell_type": "code",
   "execution_count": 15,
   "id": "72618eb7",
   "metadata": {},
   "outputs": [],
   "source": [
    "import torch.nn.functional as F"
   ]
  },
  {
   "cell_type": "code",
   "execution_count": 17,
   "id": "e6750191",
   "metadata": {},
   "outputs": [
    {
     "name": "stdout",
     "output_type": "stream",
     "text": [
      "      0/ 200000: 7.0780\n",
      "  10000/ 200000: 3.6541\n",
      "  20000/ 200000: 3.4163\n",
      "  30000/ 200000: 4.0502\n",
      "  40000/ 200000: 5.9780\n",
      "  50000/ 200000: 3.3415\n",
      "  60000/ 200000: 4.1508\n",
      "  70000/ 200000: 4.0546\n",
      "  80000/ 200000: 4.4201\n",
      "  90000/ 200000: 3.9815\n",
      " 100000/ 200000: 3.7979\n",
      " 110000/ 200000: 2.7817\n",
      " 120000/ 200000: 2.8398\n",
      " 130000/ 200000: 2.8124\n",
      " 140000/ 200000: 2.9336\n",
      " 150000/ 200000: 2.7255\n",
      " 160000/ 200000: 2.6588\n",
      " 170000/ 200000: 2.8906\n",
      " 180000/ 200000: 2.9131\n",
      " 190000/ 200000: 2.9572\n"
     ]
    }
   ],
   "source": [
    "max_steps = 200000\n",
    "batch_size = 32\n",
    "lossi = []\n",
    "for i in range(max_steps):\n",
    "    ix = torch.randint(0,Xtr.shape[0],(batch_size,), generator=g)\n",
    "    Xb, Yb = Xtr[ix],Ytr[ix]\n",
    "    emb = C[Xb]\n",
    "    h = torch.tanh(emb.view(emb.shape[0],-1)@W1+b1)\n",
    "    logits = h @ W2 + b2\n",
    "    loss = F.cross_entropy(logits,Yb)\n",
    "\n",
    "    for p in parameters:\n",
    "        p.grad =None\n",
    "    \n",
    "    loss.backward()\n",
    "\n",
    "    lr = 0.1 if i < 100000 else 0.01\n",
    "    for p in parameters:\n",
    "        p.data += -lr * p.grad\n",
    "\n",
    "    if i % 10000==0:\n",
    "        print(f\"{i:7d}/{max_steps:7d}: {loss.item():.4f}\")\n",
    "    lossi.append(loss.log10().item())"
   ]
  },
  {
   "cell_type": "code",
   "execution_count": 23,
   "id": "e6975549",
   "metadata": {},
   "outputs": [
    {
     "data": {
      "text/plain": [
       "[<matplotlib.lines.Line2D at 0x28e1d67f950>]"
      ]
     },
     "execution_count": 23,
     "metadata": {},
     "output_type": "execute_result"
    },
    {
     "data": {
      "image/png": "[encoded data removed]",
      "text/plain": [
       "<Figure size 640x480 with 1 Axes>"
      ]
     },
     "metadata": {},
     "output_type": "display_data"
    }
   ],
   "source": [
    "import matplotlib.pyplot as plt\n",
    "plt.plot(lossi)"
   ]
  },
  {
   "cell_type": "code",
   "execution_count": 24,
   "id": "0b3afa6c",
   "metadata": {},
   "outputs": [
    {
     "name": "stdout",
     "output_type": "stream",
     "text": [
      "train 2.833017587661743\n",
      "val 2.8283889293670654\n"
     ]
    }
   ],
   "source": [
    "torch.no_grad()\n",
    "def split_loss(split):\n",
    "    x,y = {\n",
    "        'train':(Xtr,Ytr),\n",
    "        'val':(Xdev,Ydev),\n",
    "        'test':(Xte,Yte)\n",
    "    }[split]\n",
    "    emb = C[x]\n",
    "    h = torch.tanh(emb.view(emb.shape[0],-1)@W1+b1)\n",
    "    logits = h @ W2 + b2\n",
    "    loss = F.cross_entropy(logits,y)\n",
    "    print(split, loss.item())\n",
    "\n",
    "split_loss('train')\n",
    "split_loss('val')"
   ]
  },
  {
   "cell_type": "code",
   "execution_count": 28,
   "id": "d4bd7a1c",
   "metadata": {},
   "outputs": [
    {
     "name": "stdout",
     "output_type": "stream",
     "text": [
      "uyaaas.\n",
      "kdaeoazymk.\n",
      "klceahn.\n",
      "lj.\n",
      ".\n",
      "nnaueiaaaenrenlaayl.\n",
      ".\n",
      "yh.\n",
      "ntszvm.\n",
      "aaneeicla.\n",
      "aalrnaaiceeyampsraoativioarsy.\n",
      "e.\n",
      "acaaeym.\n",
      "iay.\n",
      "hinai.\n",
      "ailnaecaiejlrlafeuh.\n",
      "eaykrdaiauniaiaednl.\n",
      ".\n",
      "dgrp.\n",
      "nemareurts.\n"
     ]
    }
   ],
   "source": [
    "g = torch.Generator().manual_seed(21474783647+10)\n",
    "\n",
    "for _ in range(20):\n",
    "    out = []\n",
    "    context = [0] * block_size\n",
    "    while True:\n",
    "        emb = C[torch.tensor([context])]\n",
    "        h = torch.tanh(emb.view(1,-1)@W1+b1)\n",
    "        logits = h @ W2 + b2\n",
    "        probs = F.softmax(logits, dim=1)\n",
    "        ix = torch.multinomial(probs,num_samples=1,generator=g).item()\n",
    "        context = context[1:]+[ix]\n",
    "        out.append(ix)\n",
    "        if ix ==0:\n",
    "            break\n",
    "    print(''.join(itos[i] for i in out))"
   ]
  },
  {
   "cell_type": "code",
   "execution_count": null,
   "id": "2b5f917d",
   "metadata": {},
   "outputs": [],
   "source": []
  }
 ],
 "metadata": {
  "kernelspec": {
   "display_name": ".venv",
   "language": "python",
   "name": "python3"
  },
  "language_info": {
   "codemirror_mode": {
    "name": "ipython",
    "version": 3
   },
   "file_extension": ".py",
   "mimetype": "text/x-python",
   "name": "python",
   "nbconvert_exporter": "python",
   "pygments_lexer": "ipython3",
   "version": "3.12.10"
  }
 },
 "nbformat": 4,
 "nbformat_minor": 5
}
