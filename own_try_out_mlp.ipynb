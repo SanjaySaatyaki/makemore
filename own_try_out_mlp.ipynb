{
 "cells": [
  {
   "cell_type": "code",
   "execution_count": 1,
   "id": "197fc676",
   "metadata": {},
   "outputs": [],
   "source": [
    "import torch"
   ]
  },
  {
   "cell_type": "code",
   "execution_count": 2,
   "id": "39d3c6fd",
   "metadata": {},
   "outputs": [],
   "source": [
    "words = open('names.txt','r').read().splitlines()"
   ]
  },
  {
   "cell_type": "code",
   "execution_count": 3,
   "id": "c373ec7c",
   "metadata": {},
   "outputs": [
    {
     "data": {
      "text/plain": [
       "32033"
      ]
     },
     "execution_count": 3,
     "metadata": {},
     "output_type": "execute_result"
    }
   ],
   "source": [
    "len(words)"
   ]
  },
  {
   "cell_type": "code",
   "execution_count": 5,
   "id": "d0ac8813",
   "metadata": {},
   "outputs": [],
   "source": [
    "chars = sorted(list(set(''.join(words))))\n",
    "stoi = {s:i+1 for i,s in enumerate(chars)}\n",
    "stoi['.'] = 0\n",
    "itos = {i:s for s,i in stoi.items()}"
   ]
  },
  {
   "cell_type": "code",
   "execution_count": 7,
   "id": "754e444f",
   "metadata": {},
   "outputs": [
    {
     "data": {
      "text/plain": [
       "({'a': 1,\n",
       "  'b': 2,\n",
       "  'c': 3,\n",
       "  'd': 4,\n",
       "  'e': 5,\n",
       "  'f': 6,\n",
       "  'g': 7,\n",
       "  'h': 8,\n",
       "  'i': 9,\n",
       "  'j': 10,\n",
       "  'k': 11,\n",
       "  'l': 12,\n",
       "  'm': 13,\n",
       "  'n': 14,\n",
       "  'o': 15,\n",
       "  'p': 16,\n",
       "  'q': 17,\n",
       "  'r': 18,\n",
       "  's': 19,\n",
       "  't': 20,\n",
       "  'u': 21,\n",
       "  'v': 22,\n",
       "  'w': 23,\n",
       "  'x': 24,\n",
       "  'y': 25,\n",
       "  'z': 26,\n",
       "  '.': 0},\n",
       " {1: 'a',\n",
       "  2: 'b',\n",
       "  3: 'c',\n",
       "  4: 'd',\n",
       "  5: 'e',\n",
       "  6: 'f',\n",
       "  7: 'g',\n",
       "  8: 'h',\n",
       "  9: 'i',\n",
       "  10: 'j',\n",
       "  11: 'k',\n",
       "  12: 'l',\n",
       "  13: 'm',\n",
       "  14: 'n',\n",
       "  15: 'o',\n",
       "  16: 'p',\n",
       "  17: 'q',\n",
       "  18: 'r',\n",
       "  19: 's',\n",
       "  20: 't',\n",
       "  21: 'u',\n",
       "  22: 'v',\n",
       "  23: 'w',\n",
       "  24: 'x',\n",
       "  25: 'y',\n",
       "  26: 'z',\n",
       "  0: '.'})"
      ]
     },
     "execution_count": 7,
     "metadata": {},
     "output_type": "execute_result"
    }
   ],
   "source": [
    "stoi, itos"
   ]
  },
  {
   "cell_type": "code",
   "execution_count": 14,
   "id": "4f2b91f7",
   "metadata": {},
   "outputs": [
    {
     "name": "stdout",
     "output_type": "stream",
     "text": [
      "... --> e\n",
      "..e --> m\n",
      ".em --> m\n",
      "emm --> a\n",
      "mma --> .\n",
      "... --> o\n",
      "..o --> l\n",
      ".ol --> i\n",
      "oli --> v\n",
      "liv --> i\n",
      "ivi --> a\n",
      "via --> .\n",
      "... --> a\n",
      "..a --> v\n",
      ".av --> a\n",
      "ava --> .\n"
     ]
    }
   ],
   "source": [
    "X, Y =[],[]\n",
    "context_length = 3\n",
    "\n",
    "for w in words[:3]:\n",
    "    context_block = [0] * context_length\n",
    "    for ch in w + '.':\n",
    "        ix = stoi[ch]\n",
    "        X.append(context_block)\n",
    "        Y.append(ix)\n",
    "        print(''.join(itos[i]for i in context_block),\"-->\",itos[ix])\n",
    "        context_block = context_block[1:] + [ix]"
   ]
  },
  {
   "cell_type": "code",
   "execution_count": 18,
   "id": "359105e8",
   "metadata": {},
   "outputs": [],
   "source": [
    "X = torch.tensor(X)\n",
    "Y = torch.tensor(Y)"
   ]
  },
  {
   "cell_type": "code",
   "execution_count": 19,
   "id": "0a4ba6c3",
   "metadata": {},
   "outputs": [
    {
     "data": {
      "text/plain": [
       "(torch.Size([16, 3]), torch.Size([16]))"
      ]
     },
     "execution_count": 19,
     "metadata": {},
     "output_type": "execute_result"
    }
   ],
   "source": [
    "X.shape,Y.shape"
   ]
  },
  {
   "cell_type": "code",
   "execution_count": 20,
   "id": "c9f402d5",
   "metadata": {},
   "outputs": [],
   "source": [
    "C = torch.rand((27,2))"
   ]
  },
  {
   "cell_type": "code",
   "execution_count": 21,
   "id": "81b7f656",
   "metadata": {},
   "outputs": [
    {
     "data": {
      "text/plain": [
       "torch.Size([16, 3, 2])"
      ]
     },
     "execution_count": 21,
     "metadata": {},
     "output_type": "execute_result"
    }
   ],
   "source": [
    "emb = C[X]\n",
    "emb.shape"
   ]
  },
  {
   "cell_type": "code",
   "execution_count": 23,
   "id": "51fe4b05",
   "metadata": {},
   "outputs": [],
   "source": [
    "import torch.nn.functional as F"
   ]
  },
  {
   "cell_type": "code",
   "execution_count": 24,
   "id": "3395090c",
   "metadata": {},
   "outputs": [],
   "source": [
    "C = torch.rand((27,2))\n",
    "W1 = torch.rand(6,100)\n",
    "b1 = torch.rand(100)\n",
    "W2 = torch.rand(100,27)\n",
    "b2 = torch.rand(27)\n",
    "parameters = [C,W1,b1,W2,b2]"
   ]
  },
  {
   "cell_type": "code",
   "execution_count": 25,
   "id": "a821b35b",
   "metadata": {},
   "outputs": [],
   "source": [
    "for p in parameters:\n",
    "    p.requires_grad=True"
   ]
  },
  {
   "cell_type": "code",
   "execution_count": 28,
   "id": "f6d76739",
   "metadata": {},
   "outputs": [
    {
     "name": "stdout",
     "output_type": "stream",
     "text": [
      "0.7294543981552124\n",
      "0.7232506275177002\n",
      "0.7171263098716736\n",
      "0.7110769152641296\n",
      "0.7050917744636536\n",
      "0.6991667747497559\n",
      "0.6932919025421143\n",
      "0.687462568283081\n",
      "0.6816680431365967\n",
      "0.675906777381897\n",
      "0.6701691746711731\n",
      "0.6644508838653564\n",
      "0.6587471961975098\n",
      "0.6530494093894958\n",
      "0.6473528146743774\n",
      "0.64165198802948\n",
      "0.6359444856643677\n",
      "0.6302292346954346\n",
      "0.624496340751648\n",
      "0.6187463402748108\n",
      "0.6129797101020813\n",
      "0.6071922779083252\n",
      "0.6013861298561096\n",
      "0.5955617427825928\n",
      "0.5897229313850403\n",
      "0.5838703513145447\n",
      "0.5780113935470581\n",
      "0.5721516609191895\n",
      "0.5662981271743774\n",
      "0.5604606866836548\n",
      "0.5546465516090393\n",
      "0.5488659739494324\n",
      "0.5431289672851562\n",
      "0.5374462604522705\n",
      "0.5318260788917542\n",
      "0.5262792706489563\n",
      "0.5208114385604858\n",
      "0.5154327154159546\n",
      "0.5101445317268372\n",
      "0.5049542784690857\n",
      "0.4998665750026703\n",
      "0.49488189816474915\n",
      "0.4900028705596924\n",
      "0.4852283000946045\n",
      "0.4805558919906616\n",
      "0.4759873151779175\n",
      "0.4715161621570587\n",
      "0.467144638299942\n",
      "0.46286624670028687\n",
      "0.458678662776947\n",
      "0.4545782804489136\n",
      "0.4505641460418701\n",
      "0.4466315805912018\n",
      "0.4427768886089325\n",
      "0.438997745513916\n",
      "0.43529200553894043\n",
      "0.4316566586494446\n",
      "0.4280890226364136\n",
      "0.42458853125572205\n",
      "0.42115020751953125\n",
      "0.4177747666835785\n",
      "0.4144600033760071\n",
      "0.4112035930156708\n",
      "0.4080052077770233\n",
      "0.40486323833465576\n",
      "0.4017746150493622\n",
      "0.3987395763397217\n",
      "0.3957592844963074\n",
      "0.39282968640327454\n",
      "0.38995155692100525\n",
      "0.3871215283870697\n",
      "0.38434213399887085\n",
      "0.3816109001636505\n",
      "0.3789278566837311\n",
      "0.37629109621047974\n",
      "0.37369951605796814\n",
      "0.37115514278411865\n",
      "0.368654727935791\n",
      "0.36619895696640015\n",
      "0.36378636956214905\n",
      "0.36141684651374817\n",
      "0.3590899705886841\n",
      "0.3568040132522583\n",
      "0.354559063911438\n",
      "0.3523559272289276\n",
      "0.35019150376319885\n",
      "0.34806665778160095\n",
      "0.3459799587726593\n",
      "0.34393125772476196\n",
      "0.34191960096359253\n",
      "0.33994534611701965\n",
      "0.33800792694091797\n",
      "0.3361050486564636\n",
      "0.3342371881008148\n",
      "0.33240312337875366\n",
      "0.3306039273738861\n",
      "0.32883790135383606\n",
      "0.32710370421409607\n",
      "0.3254021406173706\n",
      "0.32373201847076416\n"
     ]
    }
   ],
   "source": [
    "for _ in range(100):\n",
    "    emb=C[X]\n",
    "    h = torch.tanh(emb.view(-1,6) @ W1+b1)\n",
    "    logits = h @ W2 + b2\n",
    "    loss = F.cross_entropy(logits,Y)\n",
    "\n",
    "    for p in parameters:\n",
    "        p.grad = None\n",
    "    loss.backward()\n",
    "\n",
    "    for p in parameters:\n",
    "        p.data += -0.1 * p.grad\n",
    "    print(loss.item())"
   ]
  },
  {
   "cell_type": "code",
   "execution_count": 30,
   "id": "c6a66026",
   "metadata": {},
   "outputs": [],
   "source": [
    "block_size=3"
   ]
  },
  {
   "cell_type": "code",
   "execution_count": 32,
   "id": "453e8051",
   "metadata": {},
   "outputs": [
    {
     "name": "stdout",
     "output_type": "stream",
     "text": [
      "emma.\n",
      "emma.\n",
      "oliviaa.\n",
      "ava.\n",
      "av.\n",
      "evia.\n",
      "emma.\n",
      "emmv.\n",
      "emma.\n",
      "avaa.\n",
      "ava.\n",
      "emma.\n",
      "av.\n",
      "ava.\n",
      "olivia.\n",
      "ava.\n",
      "emma.\n",
      "emmv.\n",
      "olivi.\n",
      "emma.\n"
     ]
    }
   ],
   "source": [
    "for _ in range(20):\n",
    "    out =[]\n",
    "    context = [0]* block_size\n",
    "    while True:\n",
    "        emb = C[torch.tensor([context])]\n",
    "        h = torch.tanh(emb.view(1,-1)@ W1 + b1)\n",
    "        logits = h @ W2 + b2\n",
    "        probs = F.softmax(logits,dim=1)\n",
    "        ix = torch.multinomial(probs, num_samples=1).item()\n",
    "        context = context[1:]+[ix]\n",
    "        out.append(ix)\n",
    "        if ix==0:\n",
    "            break\n",
    "    print(''.join(itos[i] for i in out))"
   ]
  },
  {
   "cell_type": "code",
   "execution_count": null,
   "id": "90cdd1f2",
   "metadata": {},
   "outputs": [],
   "source": []
  }
 ],
 "metadata": {
  "kernelspec": {
   "display_name": ".venv",
   "language": "python",
   "name": "python3"
  },
  "language_info": {
   "codemirror_mode": {
    "name": "ipython",
    "version": 3
   },
   "file_extension": ".py",
   "mimetype": "text/x-python",
   "name": "python",
   "nbconvert_exporter": "python",
   "pygments_lexer": "ipython3",
   "version": "3.12.10"
  }
 },
 "nbformat": 4,
 "nbformat_minor": 5
}
